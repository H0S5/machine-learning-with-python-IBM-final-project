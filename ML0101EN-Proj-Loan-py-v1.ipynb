{
 "cells": [
  {
   "cell_type": "markdown",
   "id": "ec330577",
   "metadata": {
    "button": false,
    "new_sheet": false,
    "papermill": {
     "duration": 0.05254,
     "end_time": "2021-08-16T15:45:46.402311",
     "exception": false,
     "start_time": "2021-08-16T15:45:46.349771",
     "status": "completed"
    },
    "run_control": {
     "read_only": false
    },
    "tags": []
   },
   "source": [
    "<center>\n",
    "    <img src=\"https://cf-courses-data.s3.us.cloud-object-storage.appdomain.cloud/IBMDeveloperSkillsNetwork-ML0101EN-SkillsNetwork/labs/FinalModule_Coursera/images/IDSNlogo.png\" width=\"300\" alt=\"cognitiveclass.ai logo\"  />\n",
    "</center>\n",
    "\n",
    "<h1 align=\"center\"><font size=\"5\">Classification with Python</font></h1>\n"
   ]
  },
  {
   "cell_type": "markdown",
   "id": "a2b2e883",
   "metadata": {
    "button": false,
    "new_sheet": false,
    "papermill": {
     "duration": 0.057448,
     "end_time": "2021-08-16T15:45:46.512358",
     "exception": false,
     "start_time": "2021-08-16T15:45:46.454910",
     "status": "completed"
    },
    "run_control": {
     "read_only": false
    },
    "tags": []
   },
   "source": [
    "In this notebook we try to practice all the classification algorithms that we have learned in this course.\n",
    "\n",
    "We load a dataset using Pandas library, and apply the following algorithms, and find the best one for this specific dataset by accuracy evaluation methods.\n",
    "\n",
    "Let's first load required libraries:\n"
   ]
  },
  {
   "cell_type": "code",
   "execution_count": null,
   "id": "7ee7f9d5",
   "metadata": {
    "button": false,
    "execution": {
     "iopub.execute_input": "2021-08-16T15:45:46.628475Z",
     "iopub.status.busy": "2021-08-16T15:45:46.627884Z",
     "iopub.status.idle": "2021-08-16T15:45:47.615792Z",
     "shell.execute_reply": "2021-08-16T15:45:47.614998Z",
     "shell.execute_reply.started": "2021-08-16T10:42:47.454325Z"
    },
    "new_sheet": false,
    "papermill": {
     "duration": 1.050117,
     "end_time": "2021-08-16T15:45:47.615946",
     "exception": false,
     "start_time": "2021-08-16T15:45:46.565829",
     "status": "completed"
    },
    "run_control": {
     "read_only": false
    },
    "tags": []
   },
   "outputs": [],
   "source": [
    "import itertools\n",
    "import numpy as np\n",
    "import matplotlib.pyplot as plt\n",
    "from matplotlib.ticker import NullFormatter\n",
    "import pandas as pd\n",
    "import numpy as np\n",
    "import matplotlib.ticker as ticker\n",
    "from sklearn import preprocessing\n",
    "import seaborn as sns\n",
    "\n",
    "%matplotlib inline"
   ]
  },
  {
   "cell_type": "markdown",
   "id": "4d67f47b",
   "metadata": {
    "button": false,
    "new_sheet": false,
    "papermill": {
     "duration": 0.049153,
     "end_time": "2021-08-16T15:45:47.715316",
     "exception": false,
     "start_time": "2021-08-16T15:45:47.666163",
     "status": "completed"
    },
    "run_control": {
     "read_only": false
    },
    "tags": []
   },
   "source": [
    "### About dataset\n"
   ]
  },
  {
   "cell_type": "markdown",
   "id": "fe41639a",
   "metadata": {
    "button": false,
    "new_sheet": false,
    "papermill": {
     "duration": 0.049296,
     "end_time": "2021-08-16T15:45:47.813699",
     "exception": false,
     "start_time": "2021-08-16T15:45:47.764403",
     "status": "completed"
    },
    "run_control": {
     "read_only": false
    },
    "tags": []
   },
   "source": [
    "This dataset is about past loans. The **Loan_train.csv** data set includes details of 346 customers whose loan are already paid off or defaulted. It includes following fields:\n",
    "\n",
    "| Field          | Description                                                                           |\n",
    "|----------------|---------------------------------------------------------------------------------------|\n",
    "| Loan_status    | Whether a loan is paid off on in collection                                           |\n",
    "| Principal      | Basic principal loan amount at the                                                    |\n",
    "| Terms          | Origination terms which can be weekly (7 days), biweekly, and monthly payoff schedule |\n",
    "| Effective_date | When the loan got originated and took effects                                         |\n",
    "| Due_date       | Since it’s one-time payoff schedule, each loan has one single due date                |\n",
    "| Age            | Age of applicant                                                                      |\n",
    "| Education      | Education of applicant                                                                |\n",
    "| Gender         | The gender of applicant                                                               |\n"
   ]
  },
  {
   "cell_type": "markdown",
   "id": "c6ddca78",
   "metadata": {
    "button": false,
    "new_sheet": false,
    "papermill": {
     "duration": 0.049371,
     "end_time": "2021-08-16T15:45:47.913939",
     "exception": false,
     "start_time": "2021-08-16T15:45:47.864568",
     "status": "completed"
    },
    "run_control": {
     "read_only": false
    },
    "tags": []
   },
   "source": [
    "Let's download the dataset\n"
   ]
  },
  {
   "cell_type": "code",
   "execution_count": null,
   "id": "203608ee",
   "metadata": {
    "button": false,
    "execution": {
     "iopub.execute_input": "2021-08-16T15:45:48.021473Z",
     "iopub.status.busy": "2021-08-16T15:45:48.020716Z",
     "iopub.status.idle": "2021-08-16T15:45:49.282061Z",
     "shell.execute_reply": "2021-08-16T15:45:49.281448Z",
     "shell.execute_reply.started": "2021-08-16T10:42:47.465336Z"
    },
    "new_sheet": false,
    "papermill": {
     "duration": 1.318067,
     "end_time": "2021-08-16T15:45:49.282197",
     "exception": false,
     "start_time": "2021-08-16T15:45:47.964130",
     "status": "completed"
    },
    "run_control": {
     "read_only": false
    },
    "tags": []
   },
   "outputs": [],
   "source": [
    "!wget -O loan_train.csv https://cf-courses-data.s3.us.cloud-object-storage.appdomain.cloud/IBMDeveloperSkillsNetwork-ML0101EN-SkillsNetwork/labs/FinalModule_Coursera/data/loan_train.csv"
   ]
  },
  {
   "cell_type": "markdown",
   "id": "647b6150",
   "metadata": {
    "button": false,
    "new_sheet": false,
    "papermill": {
     "duration": 0.051881,
     "end_time": "2021-08-16T15:45:49.386484",
     "exception": false,
     "start_time": "2021-08-16T15:45:49.334603",
     "status": "completed"
    },
    "run_control": {
     "read_only": false
    },
    "tags": []
   },
   "source": [
    "### Load Data From CSV File\n"
   ]
  },
  {
   "cell_type": "code",
   "execution_count": null,
   "id": "b55a5d72",
   "metadata": {
    "button": false,
    "execution": {
     "iopub.execute_input": "2021-08-16T15:45:49.495857Z",
     "iopub.status.busy": "2021-08-16T15:45:49.495213Z",
     "iopub.status.idle": "2021-08-16T15:45:49.530843Z",
     "shell.execute_reply": "2021-08-16T15:45:49.530300Z",
     "shell.execute_reply.started": "2021-08-16T10:42:48.803517Z"
    },
    "new_sheet": false,
    "papermill": {
     "duration": 0.093094,
     "end_time": "2021-08-16T15:45:49.531005",
     "exception": false,
     "start_time": "2021-08-16T15:45:49.437911",
     "status": "completed"
    },
    "run_control": {
     "read_only": false
    },
    "tags": []
   },
   "outputs": [],
   "source": [
    "df = pd.read_csv('loan_train.csv')\n",
    "df.head()"
   ]
  },
  {
   "cell_type": "code",
   "execution_count": null,
   "id": "4e5fa0bc",
   "metadata": {
    "execution": {
     "iopub.execute_input": "2021-08-16T15:45:49.638715Z",
     "iopub.status.busy": "2021-08-16T15:45:49.638075Z",
     "iopub.status.idle": "2021-08-16T15:45:49.641357Z",
     "shell.execute_reply": "2021-08-16T15:45:49.640909Z",
     "shell.execute_reply.started": "2021-08-16T10:42:48.830677Z"
    },
    "papermill": {
     "duration": 0.058514,
     "end_time": "2021-08-16T15:45:49.641521",
     "exception": false,
     "start_time": "2021-08-16T15:45:49.583007",
     "status": "completed"
    },
    "tags": []
   },
   "outputs": [],
   "source": [
    "df.shape"
   ]
  },
  {
   "cell_type": "markdown",
   "id": "2105442e",
   "metadata": {
    "button": false,
    "new_sheet": false,
    "papermill": {
     "duration": 0.051627,
     "end_time": "2021-08-16T15:45:49.744971",
     "exception": false,
     "start_time": "2021-08-16T15:45:49.693344",
     "status": "completed"
    },
    "run_control": {
     "read_only": false
    },
    "tags": []
   },
   "source": [
    "### Convert to date time object\n"
   ]
  },
  {
   "cell_type": "code",
   "execution_count": null,
   "id": "6ce8dbb0",
   "metadata": {
    "button": false,
    "execution": {
     "iopub.execute_input": "2021-08-16T15:45:49.868251Z",
     "iopub.status.busy": "2021-08-16T15:45:49.867248Z",
     "iopub.status.idle": "2021-08-16T15:45:49.883979Z",
     "shell.execute_reply": "2021-08-16T15:45:49.883327Z",
     "shell.execute_reply.started": "2021-08-16T10:42:48.838355Z"
    },
    "new_sheet": false,
    "papermill": {
     "duration": 0.086173,
     "end_time": "2021-08-16T15:45:49.884115",
     "exception": false,
     "start_time": "2021-08-16T15:45:49.797942",
     "status": "completed"
    },
    "run_control": {
     "read_only": false
    },
    "tags": []
   },
   "outputs": [],
   "source": [
    "df['due_date'] = pd.to_datetime(df['due_date'])\n",
    "df['effective_date'] = pd.to_datetime(df['effective_date'])\n",
    "df.head()"
   ]
  },
  {
   "cell_type": "markdown",
   "id": "ad5078e3",
   "metadata": {
    "button": false,
    "new_sheet": false,
    "papermill": {
     "duration": 0.052809,
     "end_time": "2021-08-16T15:45:49.990501",
     "exception": false,
     "start_time": "2021-08-16T15:45:49.937692",
     "status": "completed"
    },
    "run_control": {
     "read_only": false
    },
    "tags": []
   },
   "source": [
    "# Data visualization and pre-processing\n"
   ]
  },
  {
   "cell_type": "markdown",
   "id": "5cc320d5",
   "metadata": {
    "button": false,
    "new_sheet": false,
    "papermill": {
     "duration": 0.053543,
     "end_time": "2021-08-16T15:45:50.097495",
     "exception": false,
     "start_time": "2021-08-16T15:45:50.043952",
     "status": "completed"
    },
    "run_control": {
     "read_only": false
    },
    "tags": []
   },
   "source": [
    "Let’s see how many of each class is in our data set\n"
   ]
  },
  {
   "cell_type": "code",
   "execution_count": null,
   "id": "d28d8f61",
   "metadata": {
    "button": false,
    "execution": {
     "iopub.execute_input": "2021-08-16T15:45:50.214769Z",
     "iopub.status.busy": "2021-08-16T15:45:50.214037Z",
     "iopub.status.idle": "2021-08-16T15:45:50.216611Z",
     "shell.execute_reply": "2021-08-16T15:45:50.217108Z",
     "shell.execute_reply.started": "2021-08-16T10:42:48.872845Z"
    },
    "new_sheet": false,
    "papermill": {
     "duration": 0.065903,
     "end_time": "2021-08-16T15:45:50.217267",
     "exception": false,
     "start_time": "2021-08-16T15:45:50.151364",
     "status": "completed"
    },
    "run_control": {
     "read_only": false
    },
    "tags": []
   },
   "outputs": [],
   "source": [
    "df['loan_status'].value_counts()"
   ]
  },
  {
   "cell_type": "markdown",
   "id": "b99b2170",
   "metadata": {
    "button": false,
    "new_sheet": false,
    "papermill": {
     "duration": 0.053758,
     "end_time": "2021-08-16T15:45:50.324712",
     "exception": false,
     "start_time": "2021-08-16T15:45:50.270954",
     "status": "completed"
    },
    "run_control": {
     "read_only": false
    },
    "tags": []
   },
   "source": [
    "260 people have paid off the loan on time while 86 have gone into collection\n"
   ]
  },
  {
   "cell_type": "markdown",
   "id": "6c5f8319",
   "metadata": {
    "papermill": {
     "duration": 0.05341,
     "end_time": "2021-08-16T15:45:50.432501",
     "exception": false,
     "start_time": "2021-08-16T15:45:50.379091",
     "status": "completed"
    },
    "tags": []
   },
   "source": [
    "Let's plot some columns to underestand data better:\n"
   ]
  },
  {
   "cell_type": "code",
   "execution_count": null,
   "id": "1e147cd2",
   "metadata": {
    "execution": {
     "iopub.execute_input": "2021-08-16T15:45:50.543066Z",
     "iopub.status.busy": "2021-08-16T15:45:50.542359Z",
     "iopub.status.idle": "2021-08-16T15:46:58.033244Z",
     "shell.execute_reply": "2021-08-16T15:46:58.032694Z",
     "shell.execute_reply.started": "2021-08-16T10:42:48.885711Z"
    },
    "papermill": {
     "duration": 67.547445,
     "end_time": "2021-08-16T15:46:58.033440",
     "exception": false,
     "start_time": "2021-08-16T15:45:50.485995",
     "status": "completed"
    },
    "tags": []
   },
   "outputs": [],
   "source": [
    "# notice: installing seaborn might takes a few minutes\n",
    "!conda install -c anaconda seaborn -y"
   ]
  },
  {
   "cell_type": "code",
   "execution_count": null,
   "id": "93a97d06",
   "metadata": {
    "execution": {
     "iopub.execute_input": "2021-08-16T15:46:58.359005Z",
     "iopub.status.busy": "2021-08-16T15:46:58.339486Z",
     "iopub.status.idle": "2021-08-16T15:46:58.851536Z",
     "shell.execute_reply": "2021-08-16T15:46:58.850889Z",
     "shell.execute_reply.started": "2021-08-16T10:43:29.353898Z"
    },
    "papermill": {
     "duration": 0.670332,
     "end_time": "2021-08-16T15:46:58.851687",
     "exception": false,
     "start_time": "2021-08-16T15:46:58.181355",
     "status": "completed"
    },
    "tags": []
   },
   "outputs": [],
   "source": [
    "import seaborn as sns\n",
    "\n",
    "bins = np.linspace(df.Principal.min(), df.Principal.max(), 10)\n",
    "g = sns.FacetGrid(df, col=\"Gender\", hue=\"loan_status\", palette=\"Set1\", col_wrap=2)\n",
    "g.map(plt.hist, 'Principal', bins=bins, ec=\"k\")\n",
    "\n",
    "g.axes[-1].legend()\n",
    "plt.show()"
   ]
  },
  {
   "cell_type": "code",
   "execution_count": null,
   "id": "b6ddc3a1",
   "metadata": {
    "button": false,
    "execution": {
     "iopub.execute_input": "2021-08-16T15:46:59.161277Z",
     "iopub.status.busy": "2021-08-16T15:46:59.160554Z",
     "iopub.status.idle": "2021-08-16T15:46:59.581928Z",
     "shell.execute_reply": "2021-08-16T15:46:59.581304Z",
     "shell.execute_reply.started": "2021-08-16T10:43:29.84567Z"
    },
    "new_sheet": false,
    "papermill": {
     "duration": 0.581151,
     "end_time": "2021-08-16T15:46:59.582073",
     "exception": false,
     "start_time": "2021-08-16T15:46:59.000922",
     "status": "completed"
    },
    "run_control": {
     "read_only": false
    },
    "tags": []
   },
   "outputs": [],
   "source": [
    "bins = np.linspace(df.age.min(), df.age.max(), 10)\n",
    "g = sns.FacetGrid(df, col=\"Gender\", hue=\"loan_status\", palette=\"Set1\", col_wrap=2)\n",
    "g.map(plt.hist, 'age', bins=bins, ec=\"k\")\n",
    "\n",
    "g.axes[-1].legend()\n",
    "plt.show()"
   ]
  },
  {
   "cell_type": "markdown",
   "id": "51f616a8",
   "metadata": {
    "button": false,
    "new_sheet": false,
    "papermill": {
     "duration": 0.144352,
     "end_time": "2021-08-16T15:46:59.871334",
     "exception": false,
     "start_time": "2021-08-16T15:46:59.726982",
     "status": "completed"
    },
    "run_control": {
     "read_only": false
    },
    "tags": []
   },
   "source": [
    "# Pre-processing:  Feature selection/extraction\n"
   ]
  },
  {
   "cell_type": "markdown",
   "id": "a6f43dc5",
   "metadata": {
    "button": false,
    "new_sheet": false,
    "papermill": {
     "duration": 0.144694,
     "end_time": "2021-08-16T15:47:00.160598",
     "exception": false,
     "start_time": "2021-08-16T15:47:00.015904",
     "status": "completed"
    },
    "run_control": {
     "read_only": false
    },
    "tags": []
   },
   "source": [
    "### Let's look at the day of the week people get the loan\n"
   ]
  },
  {
   "cell_type": "code",
   "execution_count": null,
   "id": "d828ba40",
   "metadata": {
    "button": false,
    "execution": {
     "iopub.execute_input": "2021-08-16T15:47:00.486819Z",
     "iopub.status.busy": "2021-08-16T15:47:00.463255Z",
     "iopub.status.idle": "2021-08-16T15:47:01.004429Z",
     "shell.execute_reply": "2021-08-16T15:47:01.003642Z",
     "shell.execute_reply.started": "2021-08-16T10:43:30.272833Z"
    },
    "new_sheet": false,
    "papermill": {
     "duration": 0.699625,
     "end_time": "2021-08-16T15:47:01.004591",
     "exception": false,
     "start_time": "2021-08-16T15:47:00.304966",
     "status": "completed"
    },
    "run_control": {
     "read_only": false
    },
    "tags": []
   },
   "outputs": [],
   "source": [
    "df['dayofweek'] = df['effective_date'].dt.dayofweek\n",
    "bins = np.linspace(df.dayofweek.min(), df.dayofweek.max(), 10)\n",
    "g = sns.FacetGrid(df, col=\"Gender\", hue=\"loan_status\", palette=\"Set1\", col_wrap=2)\n",
    "g.map(plt.hist, 'dayofweek', bins=bins, ec=\"k\")\n",
    "g.axes[-1].legend()\n",
    "plt.show()\n"
   ]
  },
  {
   "cell_type": "markdown",
   "id": "ccb8298c",
   "metadata": {
    "button": false,
    "new_sheet": false,
    "papermill": {
     "duration": 0.146521,
     "end_time": "2021-08-16T15:47:01.299328",
     "exception": false,
     "start_time": "2021-08-16T15:47:01.152807",
     "status": "completed"
    },
    "run_control": {
     "read_only": false
    },
    "tags": []
   },
   "source": [
    "We see that people who get the loan at the end of the week don't pay it off, so let's use Feature binarization to set a threshold value less than day 4\n"
   ]
  },
  {
   "cell_type": "code",
   "execution_count": null,
   "id": "a7d7c820",
   "metadata": {
    "button": false,
    "execution": {
     "iopub.execute_input": "2021-08-16T15:47:01.608855Z",
     "iopub.status.busy": "2021-08-16T15:47:01.596969Z",
     "iopub.status.idle": "2021-08-16T15:47:01.612967Z",
     "shell.execute_reply": "2021-08-16T15:47:01.613445Z",
     "shell.execute_reply.started": "2021-08-16T10:43:30.688441Z"
    },
    "new_sheet": false,
    "papermill": {
     "duration": 0.167556,
     "end_time": "2021-08-16T15:47:01.613623",
     "exception": false,
     "start_time": "2021-08-16T15:47:01.446067",
     "status": "completed"
    },
    "run_control": {
     "read_only": false
    },
    "tags": []
   },
   "outputs": [],
   "source": [
    "df['weekend'] = df['dayofweek'].apply(lambda x: 1 if (x>3)  else 0)\n",
    "df.head()"
   ]
  },
  {
   "cell_type": "markdown",
   "id": "bde7e41a",
   "metadata": {
    "button": false,
    "new_sheet": false,
    "papermill": {
     "duration": 0.143316,
     "end_time": "2021-08-16T15:47:01.901076",
     "exception": false,
     "start_time": "2021-08-16T15:47:01.757760",
     "status": "completed"
    },
    "run_control": {
     "read_only": false
    },
    "tags": []
   },
   "source": [
    "## Convert Categorical features to numerical values\n"
   ]
  },
  {
   "cell_type": "markdown",
   "id": "07753948",
   "metadata": {
    "button": false,
    "new_sheet": false,
    "papermill": {
     "duration": 0.144332,
     "end_time": "2021-08-16T15:47:02.191659",
     "exception": false,
     "start_time": "2021-08-16T15:47:02.047327",
     "status": "completed"
    },
    "run_control": {
     "read_only": false
    },
    "tags": []
   },
   "source": [
    "Let's look at gender:\n"
   ]
  },
  {
   "cell_type": "code",
   "execution_count": null,
   "id": "fd714df0",
   "metadata": {
    "button": false,
    "execution": {
     "iopub.execute_input": "2021-08-16T15:47:02.492992Z",
     "iopub.status.busy": "2021-08-16T15:47:02.492016Z",
     "iopub.status.idle": "2021-08-16T15:47:02.501686Z",
     "shell.execute_reply": "2021-08-16T15:47:02.502223Z",
     "shell.execute_reply.started": "2021-08-16T10:43:30.711203Z"
    },
    "new_sheet": false,
    "papermill": {
     "duration": 0.163976,
     "end_time": "2021-08-16T15:47:02.502404",
     "exception": false,
     "start_time": "2021-08-16T15:47:02.338428",
     "status": "completed"
    },
    "run_control": {
     "read_only": false
    },
    "tags": []
   },
   "outputs": [],
   "source": [
    "df.groupby(['Gender'])['loan_status'].value_counts(normalize=True)"
   ]
  },
  {
   "cell_type": "markdown",
   "id": "385b6d4d",
   "metadata": {
    "button": false,
    "new_sheet": false,
    "papermill": {
     "duration": 0.144078,
     "end_time": "2021-08-16T15:47:02.791576",
     "exception": false,
     "start_time": "2021-08-16T15:47:02.647498",
     "status": "completed"
    },
    "run_control": {
     "read_only": false
    },
    "tags": []
   },
   "source": [
    "86 % of female pay there loans while only 73 % of males pay there loan\n"
   ]
  },
  {
   "cell_type": "markdown",
   "id": "2eaf9be4",
   "metadata": {
    "button": false,
    "new_sheet": false,
    "papermill": {
     "duration": 0.14554,
     "end_time": "2021-08-16T15:47:03.082518",
     "exception": false,
     "start_time": "2021-08-16T15:47:02.936978",
     "status": "completed"
    },
    "run_control": {
     "read_only": false
    },
    "tags": []
   },
   "source": [
    "Let's convert male to 0 and female to 1:\n"
   ]
  },
  {
   "cell_type": "code",
   "execution_count": null,
   "id": "831de283",
   "metadata": {
    "button": false,
    "execution": {
     "iopub.execute_input": "2021-08-16T15:47:03.376941Z",
     "iopub.status.busy": "2021-08-16T15:47:03.375741Z",
     "iopub.status.idle": "2021-08-16T15:47:03.394545Z",
     "shell.execute_reply": "2021-08-16T15:47:03.395093Z",
     "shell.execute_reply.started": "2021-08-16T10:43:30.729821Z"
    },
    "new_sheet": false,
    "papermill": {
     "duration": 0.166652,
     "end_time": "2021-08-16T15:47:03.395259",
     "exception": false,
     "start_time": "2021-08-16T15:47:03.228607",
     "status": "completed"
    },
    "run_control": {
     "read_only": false
    },
    "tags": []
   },
   "outputs": [],
   "source": [
    "df['Gender'].replace(to_replace=['male','female'], value=[0,1],inplace=True)\n",
    "df.head()"
   ]
  },
  {
   "cell_type": "markdown",
   "id": "44f72316",
   "metadata": {
    "button": false,
    "new_sheet": false,
    "papermill": {
     "duration": 0.145332,
     "end_time": "2021-08-16T15:47:03.687162",
     "exception": false,
     "start_time": "2021-08-16T15:47:03.541830",
     "status": "completed"
    },
    "run_control": {
     "read_only": false
    },
    "tags": []
   },
   "source": [
    "## One Hot Encoding\n",
    "\n",
    "#### How about education?\n"
   ]
  },
  {
   "cell_type": "code",
   "execution_count": null,
   "id": "dbd6ef17",
   "metadata": {
    "button": false,
    "execution": {
     "iopub.execute_input": "2021-08-16T15:47:03.981360Z",
     "iopub.status.busy": "2021-08-16T15:47:03.980409Z",
     "iopub.status.idle": "2021-08-16T15:47:03.990312Z",
     "shell.execute_reply": "2021-08-16T15:47:03.990873Z",
     "shell.execute_reply.started": "2021-08-16T10:43:30.75146Z"
    },
    "new_sheet": false,
    "papermill": {
     "duration": 0.158737,
     "end_time": "2021-08-16T15:47:03.991037",
     "exception": false,
     "start_time": "2021-08-16T15:47:03.832300",
     "status": "completed"
    },
    "run_control": {
     "read_only": false
    },
    "tags": []
   },
   "outputs": [],
   "source": [
    "df.groupby(['education'])['loan_status'].value_counts(normalize=True)"
   ]
  },
  {
   "cell_type": "markdown",
   "id": "ff52b83a",
   "metadata": {
    "button": false,
    "new_sheet": false,
    "papermill": {
     "duration": 0.14761,
     "end_time": "2021-08-16T15:47:04.287446",
     "exception": false,
     "start_time": "2021-08-16T15:47:04.139836",
     "status": "completed"
    },
    "run_control": {
     "read_only": false
    },
    "tags": []
   },
   "source": [
    "#### Features before One Hot Encoding\n"
   ]
  },
  {
   "cell_type": "code",
   "execution_count": null,
   "id": "ddf91b30",
   "metadata": {
    "button": false,
    "execution": {
     "iopub.execute_input": "2021-08-16T15:47:04.586506Z",
     "iopub.status.busy": "2021-08-16T15:47:04.585548Z",
     "iopub.status.idle": "2021-08-16T15:47:04.597922Z",
     "shell.execute_reply": "2021-08-16T15:47:04.598464Z",
     "shell.execute_reply.started": "2021-08-16T10:43:30.775865Z"
    },
    "new_sheet": false,
    "papermill": {
     "duration": 0.162423,
     "end_time": "2021-08-16T15:47:04.598630",
     "exception": false,
     "start_time": "2021-08-16T15:47:04.436207",
     "status": "completed"
    },
    "run_control": {
     "read_only": false
    },
    "tags": []
   },
   "outputs": [],
   "source": [
    "df[['Principal','terms','age','Gender','education']].head()"
   ]
  },
  {
   "cell_type": "markdown",
   "id": "229b59ff",
   "metadata": {
    "button": false,
    "new_sheet": false,
    "papermill": {
     "duration": 0.147547,
     "end_time": "2021-08-16T15:47:04.892531",
     "exception": false,
     "start_time": "2021-08-16T15:47:04.744984",
     "status": "completed"
    },
    "run_control": {
     "read_only": false
    },
    "tags": []
   },
   "source": [
    "#### Use one hot encoding technique to conver categorical varables to binary variables and append them to the feature Data Frame\n"
   ]
  },
  {
   "cell_type": "code",
   "execution_count": null,
   "id": "58532161",
   "metadata": {
    "button": false,
    "execution": {
     "iopub.execute_input": "2021-08-16T15:47:05.220726Z",
     "iopub.status.busy": "2021-08-16T15:47:05.219641Z",
     "iopub.status.idle": "2021-08-16T15:47:05.237977Z",
     "shell.execute_reply": "2021-08-16T15:47:05.237431Z",
     "shell.execute_reply.started": "2021-08-16T10:43:30.789881Z"
    },
    "new_sheet": false,
    "papermill": {
     "duration": 0.194631,
     "end_time": "2021-08-16T15:47:05.238114",
     "exception": false,
     "start_time": "2021-08-16T15:47:05.043483",
     "status": "completed"
    },
    "run_control": {
     "read_only": false
    },
    "tags": []
   },
   "outputs": [],
   "source": [
    "Feature = df[['Principal','terms','age','Gender','weekend']]\n",
    "Feature = pd.concat([Feature,pd.get_dummies(df['education'])], axis=1)\n",
    "Feature.drop(['Master or Above'], axis = 1,inplace=True)\n",
    "Feature.head()\n"
   ]
  },
  {
   "cell_type": "markdown",
   "id": "670409cf",
   "metadata": {
    "button": false,
    "new_sheet": false,
    "papermill": {
     "duration": 0.148657,
     "end_time": "2021-08-16T15:47:05.534323",
     "exception": false,
     "start_time": "2021-08-16T15:47:05.385666",
     "status": "completed"
    },
    "run_control": {
     "read_only": false
    },
    "tags": []
   },
   "source": [
    "### Feature Selection\n"
   ]
  },
  {
   "cell_type": "markdown",
   "id": "d5d3ebf6",
   "metadata": {
    "button": false,
    "new_sheet": false,
    "papermill": {
     "duration": 0.146571,
     "end_time": "2021-08-16T15:47:05.828315",
     "exception": false,
     "start_time": "2021-08-16T15:47:05.681744",
     "status": "completed"
    },
    "run_control": {
     "read_only": false
    },
    "tags": []
   },
   "source": [
    "Let's define feature sets, X:\n"
   ]
  },
  {
   "cell_type": "code",
   "execution_count": null,
   "id": "d6084ea8",
   "metadata": {
    "button": false,
    "execution": {
     "iopub.execute_input": "2021-08-16T15:47:06.141883Z",
     "iopub.status.busy": "2021-08-16T15:47:06.140892Z",
     "iopub.status.idle": "2021-08-16T15:47:06.144713Z",
     "shell.execute_reply": "2021-08-16T15:47:06.145201Z",
     "shell.execute_reply.started": "2021-08-16T10:43:30.811949Z"
    },
    "new_sheet": false,
    "papermill": {
     "duration": 0.168418,
     "end_time": "2021-08-16T15:47:06.145387",
     "exception": false,
     "start_time": "2021-08-16T15:47:05.976969",
     "status": "completed"
    },
    "run_control": {
     "read_only": false
    },
    "tags": []
   },
   "outputs": [],
   "source": [
    "X = Feature\n",
    "X[0:5]"
   ]
  },
  {
   "cell_type": "markdown",
   "id": "66ab1819",
   "metadata": {
    "button": false,
    "new_sheet": false,
    "papermill": {
     "duration": 0.146185,
     "end_time": "2021-08-16T15:47:06.441034",
     "exception": false,
     "start_time": "2021-08-16T15:47:06.294849",
     "status": "completed"
    },
    "run_control": {
     "read_only": false
    },
    "tags": []
   },
   "source": [
    "What are our lables?\n"
   ]
  },
  {
   "cell_type": "code",
   "execution_count": null,
   "id": "d703846c",
   "metadata": {
    "button": false,
    "execution": {
     "iopub.execute_input": "2021-08-16T15:47:06.739615Z",
     "iopub.status.busy": "2021-08-16T15:47:06.738962Z",
     "iopub.status.idle": "2021-08-16T15:47:06.744538Z",
     "shell.execute_reply": "2021-08-16T15:47:06.745015Z",
     "shell.execute_reply.started": "2021-08-16T10:43:30.826516Z"
    },
    "new_sheet": false,
    "papermill": {
     "duration": 0.155906,
     "end_time": "2021-08-16T15:47:06.745175",
     "exception": false,
     "start_time": "2021-08-16T15:47:06.589269",
     "status": "completed"
    },
    "run_control": {
     "read_only": false
    },
    "tags": []
   },
   "outputs": [],
   "source": [
    "y = df['loan_status'].values\n",
    "y[0:5]"
   ]
  },
  {
   "cell_type": "markdown",
   "id": "f31e7cce",
   "metadata": {
    "button": false,
    "new_sheet": false,
    "papermill": {
     "duration": 0.148192,
     "end_time": "2021-08-16T15:47:07.041876",
     "exception": false,
     "start_time": "2021-08-16T15:47:06.893684",
     "status": "completed"
    },
    "run_control": {
     "read_only": false
    },
    "tags": []
   },
   "source": [
    "## Normalize Data\n"
   ]
  },
  {
   "cell_type": "markdown",
   "id": "41795d58",
   "metadata": {
    "button": false,
    "new_sheet": false,
    "papermill": {
     "duration": 0.147877,
     "end_time": "2021-08-16T15:47:07.339423",
     "exception": false,
     "start_time": "2021-08-16T15:47:07.191546",
     "status": "completed"
    },
    "run_control": {
     "read_only": false
    },
    "tags": []
   },
   "source": [
    "Data Standardization give data zero mean and unit variance (technically should be done after train test split)\n"
   ]
  },
  {
   "cell_type": "code",
   "execution_count": null,
   "id": "302a0d06",
   "metadata": {
    "button": false,
    "execution": {
     "iopub.execute_input": "2021-08-16T15:47:07.639792Z",
     "iopub.status.busy": "2021-08-16T15:47:07.639155Z",
     "iopub.status.idle": "2021-08-16T15:47:07.650489Z",
     "shell.execute_reply": "2021-08-16T15:47:07.649827Z",
     "shell.execute_reply.started": "2021-08-16T10:43:30.841818Z"
    },
    "new_sheet": false,
    "papermill": {
     "duration": 0.162298,
     "end_time": "2021-08-16T15:47:07.650624",
     "exception": false,
     "start_time": "2021-08-16T15:47:07.488326",
     "status": "completed"
    },
    "run_control": {
     "read_only": false
    },
    "tags": []
   },
   "outputs": [],
   "source": [
    "X= preprocessing.StandardScaler().fit(X).transform(X)\n",
    "X[0:5]"
   ]
  },
  {
   "cell_type": "markdown",
   "id": "3eb1a2fb",
   "metadata": {
    "button": false,
    "new_sheet": false,
    "papermill": {
     "duration": 0.147447,
     "end_time": "2021-08-16T15:47:07.946613",
     "exception": false,
     "start_time": "2021-08-16T15:47:07.799166",
     "status": "completed"
    },
    "run_control": {
     "read_only": false
    },
    "tags": []
   },
   "source": [
    "# Classification\n"
   ]
  },
  {
   "cell_type": "markdown",
   "id": "68202b86",
   "metadata": {
    "button": false,
    "new_sheet": false,
    "papermill": {
     "duration": 0.14888,
     "end_time": "2021-08-16T15:47:08.246099",
     "exception": false,
     "start_time": "2021-08-16T15:47:08.097219",
     "status": "completed"
    },
    "run_control": {
     "read_only": false
    },
    "tags": []
   },
   "source": [
    "Now, it is your turn, use the training set to build an accurate model. Then use the test set to report the accuracy of the model\n",
    "You should use the following algorithm:\n",
    "\n",
    "*   K Nearest Neighbor(KNN)\n",
    "*   Decision Tree\n",
    "*   Support Vector Machine\n",
    "*   Logistic Regression\n",
    "\n",
    "\\__ Notice:\\__\n",
    "\n",
    "*   You can go above and change the pre-processing, feature selection, feature-extraction, and so on, to make a better model.\n",
    "*   You should use either scikit-learn, Scipy or Numpy libraries for developing the classification algorithms.\n",
    "*   You should include the code of the algorithm in the following cells.\n"
   ]
  },
  {
   "cell_type": "markdown",
   "id": "08f32df8",
   "metadata": {
    "papermill": {
     "duration": 0.151356,
     "end_time": "2021-08-16T15:47:08.546173",
     "exception": false,
     "start_time": "2021-08-16T15:47:08.394817",
     "status": "completed"
    },
    "tags": []
   },
   "source": [
    "# K Nearest Neighbor(KNN)\n",
    "\n",
    "Notice: You should find the best k to build the model with the best accuracy.\\\n",
    "**warning:** You should not use the **loan_test.csv** for finding the best k, however, you can split your train_loan.csv into train and test to find the best **k**.\n"
   ]
  },
  {
   "cell_type": "code",
   "execution_count": null,
   "id": "74d019da",
   "metadata": {
    "execution": {
     "iopub.execute_input": "2021-08-16T15:47:08.845698Z",
     "iopub.status.busy": "2021-08-16T15:47:08.845058Z",
     "iopub.status.idle": "2021-08-16T15:47:08.899011Z",
     "shell.execute_reply": "2021-08-16T15:47:08.898313Z",
     "shell.execute_reply.started": "2021-08-16T10:43:30.861375Z"
    },
    "papermill": {
     "duration": 0.204498,
     "end_time": "2021-08-16T15:47:08.899151",
     "exception": false,
     "start_time": "2021-08-16T15:47:08.694653",
     "status": "completed"
    },
    "tags": []
   },
   "outputs": [],
   "source": [
    "\n",
    "from sklearn.model_selection import train_test_split\n",
    "X_train, X_test, y_train, y_test = train_test_split(X, y, test_size=0.2, random_state=4)\n",
    "\n",
    "print(\"Train set: \", X_train.shape, y_train.shape)\n",
    "print(\"Test set: \", X_test.shape, y_test.shape)"
   ]
  },
  {
   "cell_type": "code",
   "execution_count": null,
   "id": "a15195e3",
   "metadata": {
    "execution": {
     "iopub.execute_input": "2021-08-16T15:47:09.203850Z",
     "iopub.status.busy": "2021-08-16T15:47:09.202724Z",
     "iopub.status.idle": "2021-08-16T15:47:09.388851Z",
     "shell.execute_reply": "2021-08-16T15:47:09.387874Z",
     "shell.execute_reply.started": "2021-08-16T10:43:30.873408Z"
    },
    "papermill": {
     "duration": 0.341118,
     "end_time": "2021-08-16T15:47:09.389004",
     "exception": false,
     "start_time": "2021-08-16T15:47:09.047886",
     "status": "completed"
    },
    "tags": []
   },
   "outputs": [],
   "source": [
    "from sklearn.neighbors import KNeighborsClassifier\n",
    "from sklearn.metrics import accuracy_score\n",
    "k = 4\n",
    "kNN_model = KNeighborsClassifier(n_neighbors=k).fit(X_train, y_train)\n",
    "kNN_model\n",
    "y_pred = kNN_model.predict( X_test )\n",
    "\n",
    "#Find the best k\n",
    "Ks = 10\n",
    "mean_acc = np.zeros((Ks-1))\n",
    "std_acc = np.zeros((Ks-1))\n",
    "\n",
    "for n in range(1,Ks):\n",
    "    \n",
    "    #Train Model and Predict  \n",
    "    neigh = KNeighborsClassifier(n_neighbors = n).fit(X_train,y_train)\n",
    "    yhat=neigh.predict(X_test)\n",
    "    mean_acc[n-1] = metrics.accuracy_score(y_test, yhat)\n",
    "\n",
    "    \n",
    "    std_acc[n-1]=np.std(yhat==y_test)/np.sqrt(yhat.shape[0])\n",
    "\n",
    "mean_acc"
   ]
  },
  {
   "cell_type": "code",
   "execution_count": null,
   "id": "f2525a8f",
   "metadata": {
    "execution": {
     "iopub.execute_input": "2021-08-16T15:47:09.750700Z",
     "iopub.status.busy": "2021-08-16T15:47:09.749984Z",
     "iopub.status.idle": "2021-08-16T15:47:09.793459Z",
     "shell.execute_reply": "2021-08-16T15:47:09.792867Z",
     "shell.execute_reply.started": "2021-08-16T11:09:32.192846Z"
    },
    "papermill": {
     "duration": 0.254269,
     "end_time": "2021-08-16T15:47:09.793598",
     "exception": false,
     "start_time": "2021-08-16T15:47:09.539329",
     "status": "completed"
    },
    "tags": []
   },
   "outputs": [],
   "source": [
    "from sklearn.metrics import f1_score\n",
    "from sklearn.metrics import jaccard_score\n",
    "from sklearn import metrics\n",
    "\n",
    "print( \"The best accuracy was with\", mean_acc.max(), \"with k=\", mean_acc.argmax()+1) \n",
    "knn_model = KNeighborsClassifier(n_neighbors = mean_acc.argmax()+1).fit(X_train, y_train)\n",
    "\n",
    "print(\"Train set accuracy with Jaccard_score: \", metrics.accuracy_score(y_train, knn_model.predict(X_train)))\n",
    "print(\"Test set accuracy with Jaccard_score: \", metrics.accuracy_score(y_test, knn_model.predict(X_test)))\n",
    "\n",
    "print(\"Train set accuracy with F1: \", f1_score(y_train, knn_model.predict(X_train), average='weighted'))\n",
    "print(\"Test set accuracy with F1: \", f1_score(y_test, knn_model.predict(X_test), average='weighted'))\n"
   ]
  },
  {
   "cell_type": "markdown",
   "id": "a9ac7c30",
   "metadata": {
    "papermill": {
     "duration": 0.150689,
     "end_time": "2021-08-16T15:47:10.093900",
     "exception": false,
     "start_time": "2021-08-16T15:47:09.943211",
     "status": "completed"
    },
    "tags": []
   },
   "source": [
    "# Decision Tree\n"
   ]
  },
  {
   "cell_type": "code",
   "execution_count": null,
   "id": "9f9e5053",
   "metadata": {
    "execution": {
     "iopub.execute_input": "2021-08-16T15:47:10.401623Z",
     "iopub.status.busy": "2021-08-16T15:47:10.400918Z",
     "iopub.status.idle": "2021-08-16T15:47:10.428901Z",
     "shell.execute_reply": "2021-08-16T15:47:10.428200Z",
     "shell.execute_reply.started": "2021-08-16T11:09:41.890135Z"
    },
    "papermill": {
     "duration": 0.182597,
     "end_time": "2021-08-16T15:47:10.429042",
     "exception": false,
     "start_time": "2021-08-16T15:47:10.246445",
     "status": "completed"
    },
    "tags": []
   },
   "outputs": [],
   "source": [
    "from sklearn.tree import DecisionTreeClassifier\n"
   ]
  },
  {
   "cell_type": "code",
   "execution_count": null,
   "id": "17741f04",
   "metadata": {
    "execution": {
     "iopub.execute_input": "2021-08-16T15:47:10.739261Z",
     "iopub.status.busy": "2021-08-16T15:47:10.738242Z",
     "iopub.status.idle": "2021-08-16T15:47:10.756654Z",
     "shell.execute_reply": "2021-08-16T15:47:10.757120Z",
     "shell.execute_reply.started": "2021-08-16T10:59:20.395963Z"
    },
    "papermill": {
     "duration": 0.176215,
     "end_time": "2021-08-16T15:47:10.757296",
     "exception": false,
     "start_time": "2021-08-16T15:47:10.581081",
     "status": "completed"
    },
    "tags": []
   },
   "outputs": [],
   "source": [
    "for depth in range(1,10):\n",
    "    dt = DecisionTreeClassifier(criterion = 'entropy', max_depth = d).fit(X_train, y_train)\n",
    "    y_pred = dt.predict(X_test)\n",
    "    print(depth, accuracy_score(y_test, y_pred))"
   ]
  },
  {
   "cell_type": "code",
   "execution_count": null,
   "id": "f239d603",
   "metadata": {
    "execution": {
     "iopub.execute_input": "2021-08-16T15:47:11.067413Z",
     "iopub.status.busy": "2021-08-16T15:47:11.064833Z",
     "iopub.status.idle": "2021-08-16T15:47:11.077683Z",
     "shell.execute_reply": "2021-08-16T15:47:11.078183Z",
     "shell.execute_reply.started": "2021-08-16T11:10:56.424337Z"
    },
    "papermill": {
     "duration": 0.170295,
     "end_time": "2021-08-16T15:47:11.078347",
     "exception": false,
     "start_time": "2021-08-16T15:47:10.908052",
     "status": "completed"
    },
    "tags": []
   },
   "outputs": [],
   "source": [
    "print(\"best depth = 2\")\n",
    "dt = DecisionTreeClassifier(criterion=\"entropy\", max_depth=2).fit(X_train, y_train)\n",
    "\n",
    "print(\"Train set Accuracy with Jaccard_score: \", metrics.accuracy_score(y_train, dt.predict(X_train)))\n",
    "print(\"Test set Accuracy with Jaccard_score: \", metrics.accuracy_score(y_test, dt.predict(X_test)))\n",
    "\n",
    "print(\"Train set Accuracy with F1: \", f1_score(y_train, dt.predict(X_train), average='weighted'))\n",
    "print(\"Test set Accuracy with F1: \", f1_score(y_test, dt.predict(X_test), average='weighted'))\n"
   ]
  },
  {
   "cell_type": "markdown",
   "id": "1fb1da09",
   "metadata": {
    "papermill": {
     "duration": 0.151069,
     "end_time": "2021-08-16T15:47:11.379188",
     "exception": false,
     "start_time": "2021-08-16T15:47:11.228119",
     "status": "completed"
    },
    "tags": []
   },
   "source": [
    "# Support Vector Machine\n"
   ]
  },
  {
   "cell_type": "code",
   "execution_count": null,
   "id": "9949cc80",
   "metadata": {
    "execution": {
     "iopub.execute_input": "2021-08-16T15:47:11.684966Z",
     "iopub.status.busy": "2021-08-16T15:47:11.684243Z",
     "iopub.status.idle": "2021-08-16T15:47:11.687280Z",
     "shell.execute_reply": "2021-08-16T15:47:11.686788Z",
     "shell.execute_reply.started": "2021-08-16T11:11:52.806147Z"
    },
    "papermill": {
     "duration": 0.157167,
     "end_time": "2021-08-16T15:47:11.687495",
     "exception": false,
     "start_time": "2021-08-16T15:47:11.530328",
     "status": "completed"
    },
    "tags": []
   },
   "outputs": [],
   "source": [
    "#importing svm\n",
    "from sklearn import svm \n"
   ]
  },
  {
   "cell_type": "code",
   "execution_count": null,
   "id": "3a98cfed",
   "metadata": {
    "execution": {
     "iopub.execute_input": "2021-08-16T15:47:11.996891Z",
     "iopub.status.busy": "2021-08-16T15:47:11.996197Z",
     "iopub.status.idle": "2021-08-16T15:47:12.020832Z",
     "shell.execute_reply": "2021-08-16T15:47:12.021319Z",
     "shell.execute_reply.started": "2021-08-16T11:12:21.706924Z"
    },
    "papermill": {
     "duration": 0.183391,
     "end_time": "2021-08-16T15:47:12.021519",
     "exception": false,
     "start_time": "2021-08-16T15:47:11.838128",
     "status": "completed"
    },
    "tags": []
   },
   "outputs": [],
   "source": [
    "from sklearn import svm\n",
    "clf = svm.SVC(kernel='rbf')\n",
    "clf.fit(X_train, y_train) "
   ]
  },
  {
   "cell_type": "code",
   "execution_count": null,
   "id": "2148ab95",
   "metadata": {
    "execution": {
     "iopub.execute_input": "2021-08-16T15:47:12.331395Z",
     "iopub.status.busy": "2021-08-16T15:47:12.330461Z",
     "iopub.status.idle": "2021-08-16T15:47:12.348141Z",
     "shell.execute_reply": "2021-08-16T15:47:12.347505Z",
     "shell.execute_reply.started": "2021-08-16T11:15:55.888412Z"
    },
    "papermill": {
     "duration": 0.176092,
     "end_time": "2021-08-16T15:47:12.348275",
     "exception": false,
     "start_time": "2021-08-16T15:47:12.172183",
     "status": "completed"
    },
    "tags": []
   },
   "outputs": [],
   "source": [
    "\n",
    "\n",
    "print(\"Train set Accuracy with Jaccard_score: \", metrics.accuracy_score(y_train, clf.predict(X_train)))\n",
    "print(\"Test set Accuracy with Jaccard_score: \", metrics.accuracy_score(y_test, clf.predict(X_test)))\n",
    "\n",
    "print(\"Train set Accuracy with F1: \", f1_score(y_train, clf.predict(X_train), average='weighted'))\n",
    "print(\"Test set Accuracy with F1: \", f1_score(y_test, clf.predict(X_test), average='weighted'))"
   ]
  },
  {
   "cell_type": "markdown",
   "id": "feb5dca1",
   "metadata": {
    "papermill": {
     "duration": 0.150249,
     "end_time": "2021-08-16T15:47:12.649992",
     "exception": false,
     "start_time": "2021-08-16T15:47:12.499743",
     "status": "completed"
    },
    "tags": []
   },
   "source": [
    "# Logistic Regression\n"
   ]
  },
  {
   "cell_type": "code",
   "execution_count": null,
   "id": "03ac638e",
   "metadata": {
    "execution": {
     "iopub.execute_input": "2021-08-16T15:47:12.956050Z",
     "iopub.status.busy": "2021-08-16T15:47:12.955389Z",
     "iopub.status.idle": "2021-08-16T15:47:12.958625Z",
     "shell.execute_reply": "2021-08-16T15:47:12.957989Z",
     "shell.execute_reply.started": "2021-08-16T11:31:29.786008Z"
    },
    "papermill": {
     "duration": 0.158688,
     "end_time": "2021-08-16T15:47:12.958766",
     "exception": false,
     "start_time": "2021-08-16T15:47:12.800078",
     "status": "completed"
    },
    "tags": []
   },
   "outputs": [],
   "source": [
    "from sklearn.linear_model import LogisticRegression\n",
    "from sklearn.metrics import confusion_matrix\n",
    "LR = LogisticRegression(C=0.01, solver='liblinear').fit(X_train,y_train)\n",
    "LR"
   ]
  },
  {
   "cell_type": "code",
   "execution_count": null,
   "id": "f9b1ff65",
   "metadata": {
    "execution": {
     "iopub.execute_input": "2021-08-16T15:47:13.357250Z",
     "iopub.status.busy": "2021-08-16T15:47:13.356621Z",
     "iopub.status.idle": "2021-08-16T15:47:13.413309Z",
     "shell.execute_reply": "2021-08-16T15:47:13.412749Z",
     "shell.execute_reply.started": "2021-08-16T11:32:14.301289Z"
    },
    "papermill": {
     "duration": 0.304723,
     "end_time": "2021-08-16T15:47:13.413466",
     "exception": false,
     "start_time": "2021-08-16T15:47:13.108743",
     "status": "completed"
    },
    "tags": []
   },
   "outputs": [],
   "source": [
    "LR = LogisticRegression(C=0.01, solver='liblinear').fit(X_train,y_train)\n",
    "LR"
   ]
  },
  {
   "cell_type": "code",
   "execution_count": null,
   "id": "1e70949d",
   "metadata": {
    "execution": {
     "iopub.execute_input": "2021-08-16T15:47:13.725558Z",
     "iopub.status.busy": "2021-08-16T15:47:13.724891Z",
     "iopub.status.idle": "2021-08-16T15:47:13.738386Z",
     "shell.execute_reply": "2021-08-16T15:47:13.737833Z",
     "shell.execute_reply.started": "2021-08-16T11:34:06.097443Z"
    },
    "papermill": {
     "duration": 0.173437,
     "end_time": "2021-08-16T15:47:13.738534",
     "exception": false,
     "start_time": "2021-08-16T15:47:13.565097",
     "status": "completed"
    },
    "tags": []
   },
   "outputs": [],
   "source": [
    "yhat = LR.predict(X_test)\n",
    "yhat\n",
    "\n",
    "yhat_prob = LR.predict_proba(X_test)\n",
    "yhat_prob"
   ]
  },
  {
   "cell_type": "markdown",
   "id": "6745dcb8",
   "metadata": {
    "papermill": {
     "duration": 0.155249,
     "end_time": "2021-08-16T15:47:14.045603",
     "exception": false,
     "start_time": "2021-08-16T15:47:13.890354",
     "status": "completed"
    },
    "tags": []
   },
   "source": [
    "# Model Evaluation using Test set\n"
   ]
  },
  {
   "cell_type": "code",
   "execution_count": null,
   "id": "e31a6b0c",
   "metadata": {
    "execution": {
     "iopub.execute_input": "2021-08-16T15:47:14.355615Z",
     "iopub.status.busy": "2021-08-16T15:47:14.354932Z",
     "iopub.status.idle": "2021-08-16T15:47:14.357911Z",
     "shell.execute_reply": "2021-08-16T15:47:14.357420Z",
     "shell.execute_reply.started": "2021-08-16T10:43:30.947573Z"
    },
    "papermill": {
     "duration": 0.159973,
     "end_time": "2021-08-16T15:47:14.358059",
     "exception": false,
     "start_time": "2021-08-16T15:47:14.198086",
     "status": "completed"
    },
    "tags": []
   },
   "outputs": [],
   "source": [
    "from sklearn.metrics import jaccard_score\n",
    "from sklearn.metrics import f1_score\n",
    "from sklearn.metrics import log_loss\n"
   ]
  },
  {
   "cell_type": "markdown",
   "id": "6a9ad6aa",
   "metadata": {
    "papermill": {
     "duration": 0.151586,
     "end_time": "2021-08-16T15:47:14.660479",
     "exception": false,
     "start_time": "2021-08-16T15:47:14.508893",
     "status": "completed"
    },
    "tags": []
   },
   "source": [
    "First, download and load the test set:\n"
   ]
  },
  {
   "cell_type": "code",
   "execution_count": null,
   "id": "7cd22f44",
   "metadata": {
    "execution": {
     "iopub.execute_input": "2021-08-16T15:47:14.968014Z",
     "iopub.status.busy": "2021-08-16T15:47:14.967332Z",
     "iopub.status.idle": "2021-08-16T15:47:16.027719Z",
     "shell.execute_reply": "2021-08-16T15:47:16.026811Z",
     "shell.execute_reply.started": "2021-08-16T10:43:30.955672Z"
    },
    "papermill": {
     "duration": 1.216866,
     "end_time": "2021-08-16T15:47:16.027968",
     "exception": false,
     "start_time": "2021-08-16T15:47:14.811102",
     "status": "completed"
    },
    "tags": []
   },
   "outputs": [],
   "source": [
    "!wget -O loan_test.csv https://s3-api.us-geo.objectstorage.softlayer.net/cf-courses-data/CognitiveClass/ML0101ENv3/labs/loan_test.csv"
   ]
  },
  {
   "cell_type": "markdown",
   "id": "c8bc47cf",
   "metadata": {
    "button": false,
    "new_sheet": false,
    "papermill": {
     "duration": 0.152456,
     "end_time": "2021-08-16T15:47:16.358894",
     "exception": false,
     "start_time": "2021-08-16T15:47:16.206438",
     "status": "completed"
    },
    "run_control": {
     "read_only": false
    },
    "tags": []
   },
   "source": [
    "### Load Test set for evaluation\n"
   ]
  },
  {
   "cell_type": "code",
   "execution_count": null,
   "id": "721d3058",
   "metadata": {
    "button": false,
    "execution": {
     "iopub.execute_input": "2021-08-16T15:47:16.673731Z",
     "iopub.status.busy": "2021-08-16T15:47:16.672708Z",
     "iopub.status.idle": "2021-08-16T15:47:16.691875Z",
     "shell.execute_reply": "2021-08-16T15:47:16.691350Z",
     "shell.execute_reply.started": "2021-08-16T10:43:31.892253Z"
    },
    "new_sheet": false,
    "papermill": {
     "duration": 0.180451,
     "end_time": "2021-08-16T15:47:16.692017",
     "exception": false,
     "start_time": "2021-08-16T15:47:16.511566",
     "status": "completed"
    },
    "run_control": {
     "read_only": false
    },
    "tags": []
   },
   "outputs": [],
   "source": [
    "test_df = pd.read_csv('loan_test.csv')\n",
    "test_df.head()"
   ]
  },
  {
   "cell_type": "code",
   "execution_count": null,
   "id": "65ecc95b",
   "metadata": {
    "execution": {
     "iopub.execute_input": "2021-08-16T15:47:17.024906Z",
     "iopub.status.busy": "2021-08-16T15:47:17.017213Z",
     "iopub.status.idle": "2021-08-16T15:47:17.036029Z",
     "shell.execute_reply": "2021-08-16T15:47:17.035460Z",
     "shell.execute_reply.started": "2021-08-16T11:36:19.451854Z"
    },
    "papermill": {
     "duration": 0.19106,
     "end_time": "2021-08-16T15:47:17.036165",
     "exception": false,
     "start_time": "2021-08-16T15:47:16.845105",
     "status": "completed"
    },
    "tags": []
   },
   "outputs": [],
   "source": [
    "test_df['due_date'] = pd.to_datetime(test_df['due_date'])\n",
    "test_df['effective_date'] = pd.to_datetime(test_df['effective_date'])\n",
    "test_df['dayofweek'] = test_df['effective_date'].dt.dayofweek\n",
    "\n",
    "test_df['weekend'] = test_df['dayofweek'].apply(lambda x: 1 if (x>3)  else 0)\n",
    "test_df['Gender'].replace(to_replace=['male','female'], value=[0,1],inplace=True)\n",
    "\n",
    "Feature1 = test_df[['Principal','terms','age','Gender','weekend']]\n",
    "Feature1 = pd.concat([Feature1,pd.get_dummies(test_df['education'])], axis=1)\n",
    "Feature1.drop(['Master or Above'], axis = 1,inplace=True)\n",
    "\n",
    "\n",
    "x_loan_test = Feature1\n",
    "x_loan_test = preprocessing.StandardScaler().fit(x_loan_test).transform(x_loan_test)\n",
    "\n",
    "y_loan_test = test_df['loan_status'].values"
   ]
  },
  {
   "cell_type": "code",
   "execution_count": null,
   "id": "a5218d3e",
   "metadata": {
    "execution": {
     "iopub.execute_input": "2021-08-16T15:47:17.350752Z",
     "iopub.status.busy": "2021-08-16T15:47:17.350082Z",
     "iopub.status.idle": "2021-08-16T15:47:17.361602Z",
     "shell.execute_reply": "2021-08-16T15:47:17.360996Z",
     "shell.execute_reply.started": "2021-08-16T11:45:45.676953Z"
    },
    "papermill": {
     "duration": 0.171354,
     "end_time": "2021-08-16T15:47:17.361756",
     "exception": false,
     "start_time": "2021-08-16T15:47:17.190402",
     "status": "completed"
    },
    "tags": []
   },
   "outputs": [],
   "source": [
    "knn_pred = kNN_model.predict(x_loan_test)\n",
    "j1 = accuracy_score(y_loan_test, knn_pred)\n",
    "\n",
    "decision_tree_pred = dt.predict(x_loan_test)\n",
    "j2 = accuracy_score(y_loan_test, decision_tree_pred)\n",
    "\n",
    "svm_pred = clf.predict(x_loan_test)\n",
    "j3 = accuracy_score(y_loan_test, svm_pred)\n",
    "\n",
    "LR_pred = LR.predict(x_loan_test)\n",
    "j4 = accuracy_score(y_loan_test, LR_pred)\n",
    "\n",
    "jaccard = [j1, j2, j3, j4]\n",
    "jaccard"
   ]
  },
  {
   "cell_type": "code",
   "execution_count": null,
   "id": "8b0ef574",
   "metadata": {
    "execution": {
     "iopub.execute_input": "2021-08-16T15:47:17.679088Z",
     "iopub.status.busy": "2021-08-16T15:47:17.678061Z",
     "iopub.status.idle": "2021-08-16T15:47:17.692968Z",
     "shell.execute_reply": "2021-08-16T15:47:17.692333Z",
     "shell.execute_reply.started": "2021-08-16T11:49:49.464254Z"
    },
    "papermill": {
     "duration": 0.176899,
     "end_time": "2021-08-16T15:47:17.693105",
     "exception": false,
     "start_time": "2021-08-16T15:47:17.516206",
     "status": "completed"
    },
    "tags": []
   },
   "outputs": [],
   "source": [
    "knn_pred = kNN_model.predict(x_loan_test)\n",
    "f1_1 = f1_score(y_loan_test, knn_pred, average='weighted')\n",
    "\n",
    "decision_tree_pred = dt.predict(x_loan_test)\n",
    "f1_2 = f1_score(y_loan_test, decision_tree_pred, average='weighted')\n",
    "\n",
    "\n",
    "svm_pred = clf.predict(x_loan_test)\n",
    "f1_3 = f1_score(y_loan_test, svm_pred, average='weighted')\n",
    "\n",
    "LR_pred = LR.predict(x_loan_test)\n",
    "f1_4 = f1_score(y_loan_test, LR_pred, average='weighted')\n",
    "\n",
    "f1s = [f1_1, f1_2, f1_3, f1_4]\n",
    "f1s"
   ]
  },
  {
   "cell_type": "code",
   "execution_count": null,
   "id": "f34ed203",
   "metadata": {
    "execution": {
     "iopub.execute_input": "2021-08-16T15:47:18.010502Z",
     "iopub.status.busy": "2021-08-16T15:47:18.009856Z",
     "iopub.status.idle": "2021-08-16T15:47:18.012758Z",
     "shell.execute_reply": "2021-08-16T15:47:18.013275Z",
     "shell.execute_reply.started": "2021-08-16T12:03:58.372481Z"
    },
    "papermill": {
     "duration": 0.167186,
     "end_time": "2021-08-16T15:47:18.013453",
     "exception": false,
     "start_time": "2021-08-16T15:47:17.846267",
     "status": "completed"
    },
    "tags": []
   },
   "outputs": [],
   "source": [
    "from sklearn.metrics import log_loss\n",
    "\n",
    "LR_pred = LR.predict_proba(x_loan_test)\n",
    "ll = log_loss(y_loan_test, LR_pred)\n",
    "\n",
    "log_loss = ['NA','NA','NA', ll]\n",
    "log_loss\n"
   ]
  },
  {
   "cell_type": "code",
   "execution_count": null,
   "id": "4505dc2e",
   "metadata": {
    "execution": {
     "iopub.execute_input": "2021-08-16T15:47:18.324265Z",
     "iopub.status.busy": "2021-08-16T15:47:18.323628Z",
     "iopub.status.idle": "2021-08-16T15:47:18.337089Z",
     "shell.execute_reply": "2021-08-16T15:47:18.336469Z",
     "shell.execute_reply.started": "2021-08-16T12:10:57.86794Z"
    },
    "papermill": {
     "duration": 0.170011,
     "end_time": "2021-08-16T15:47:18.337222",
     "exception": false,
     "start_time": "2021-08-16T15:47:18.167211",
     "status": "completed"
    },
    "tags": []
   },
   "outputs": [],
   "source": [
    "index   = [\"KNN\", \"Decision Tree\", \"SVM\", \"Logistic Regression\"]\n",
    "colunms = [\"Jaccard\", \"F1-score\", \"LogLoss\"]\n",
    "\n",
    "data = [jaccard, f1s, log_loss]\n",
    "data = np.array(data).T\n",
    "\n",
    "df = pd.DataFrame(data, index=index, columns=colunms)\n",
    "df"
   ]
  },
  {
   "cell_type": "markdown",
   "id": "49141d32",
   "metadata": {
    "papermill": {
     "duration": 0.158787,
     "end_time": "2021-08-16T15:47:18.653109",
     "exception": false,
     "start_time": "2021-08-16T15:47:18.494322",
     "status": "completed"
    },
    "tags": []
   },
   "source": [
    "# Report\n",
    "\n",
    "You should be able to report the accuracy of the built model using different evaluation metrics:\n"
   ]
  },
  {
   "cell_type": "markdown",
   "id": "b5514a31",
   "metadata": {
    "papermill": {
     "duration": 0.156285,
     "end_time": "2021-08-16T15:47:18.964648",
     "exception": false,
     "start_time": "2021-08-16T15:47:18.808363",
     "status": "completed"
    },
    "tags": []
   },
   "source": [
    "| Algorithm          | Jaccard | F1-score | LogLoss |\n",
    "|--------------------|---------|----------|---------|\n",
    "| KNN                | ?       | ?        | NA      |\n",
    "| Decision Tree      | ?       | ?        | NA      |\n",
    "| SVM                | ?       | ?        | NA      |\n",
    "| LogisticRegression | ?       | ?        | ?       |\n"
   ]
  },
  {
   "cell_type": "markdown",
   "id": "6795b878",
   "metadata": {
    "button": false,
    "new_sheet": false,
    "papermill": {
     "duration": 0.1548,
     "end_time": "2021-08-16T15:47:19.276468",
     "exception": false,
     "start_time": "2021-08-16T15:47:19.121668",
     "status": "completed"
    },
    "run_control": {
     "read_only": false
    },
    "tags": []
   },
   "source": [
    "<h2>Want to learn more?</h2>\n",
    "\n",
    "IBM SPSS Modeler is a comprehensive analytics platform that has many machine learning algorithms. It has been designed to bring predictive intelligence to decisions made by individuals, by groups, by systems – by your enterprise as a whole. A free trial is available through this course, available here: <a href=\"http://cocl.us/ML0101EN-SPSSModeler?utm_medium=Exinfluencer&utm_source=Exinfluencer&utm_content=000026UJ&utm_term=10006555&utm_id=NA-SkillsNetwork-Channel-SkillsNetworkCoursesIBMDeveloperSkillsNetworkML0101ENSkillsNetwork20718538-2021-01-01\">SPSS Modeler</a>\n",
    "\n",
    "Also, you can use Watson Studio to run these notebooks faster with bigger datasets. Watson Studio is IBM's leading cloud solution for data scientists, built by data scientists. With Jupyter notebooks, RStudio, Apache Spark and popular libraries pre-packaged in the cloud, Watson Studio enables data scientists to collaborate on their projects without having to install anything. Join the fast-growing community of Watson Studio users today with a free account at <a href=\"https://cocl.us/ML0101EN_DSX?utm_medium=Exinfluencer&utm_source=Exinfluencer&utm_content=000026UJ&utm_term=10006555&utm_id=NA-SkillsNetwork-Channel-SkillsNetworkCoursesIBMDeveloperSkillsNetworkML0101ENSkillsNetwork20718538-2021-01-01\">Watson Studio</a>\n",
    "\n",
    "<h3>Thanks for completing this lesson!</h3>\n",
    "\n",
    "<h4>Author:  <a href=\"https://ca.linkedin.com/in/saeedaghabozorgi?utm_medium=Exinfluencer&utm_source=Exinfluencer&utm_content=000026UJ&utm_term=10006555&utm_id=NA-SkillsNetwork-Channel-SkillsNetworkCoursesIBMDeveloperSkillsNetworkML0101ENSkillsNetwork20718538-2021-01-01?utm_medium=Exinfluencer&utm_source=Exinfluencer&utm_content=000026UJ&utm_term=10006555&utm_id=NA-SkillsNetwork-Channel-SkillsNetworkCoursesIBMDeveloperSkillsNetworkML0101ENSkillsNetwork20718538-2021-01-01\">Saeed Aghabozorgi</a></h4>\n",
    "<p><a href=\"https://ca.linkedin.com/in/saeedaghabozorgi\">Saeed Aghabozorgi</a>, PhD is a Data Scientist in IBM with a track record of developing enterprise level applications that substantially increases clients’ ability to turn data into actionable knowledge. He is a researcher in data mining field and expert in developing advanced analytic methods like machine learning and statistical modelling on large datasets.</p>\n",
    "\n",
    "<hr>\n",
    "\n",
    "## Change Log\n",
    "\n",
    "| Date (YYYY-MM-DD) | Version | Changed By | Change Description |\n",
    "|---|---|---|---|\n",
    "| 2020-10-27 | 2.1 | Lakshmi Holla | Made changes in import statement due to updates in version of  sklearn library |\n",
    "| 2020-08-27 | 2.0 | Malika Singla | Added lab to GitLab |\n",
    "\n",
    "<hr>\n",
    "\n",
    "## <h3 align=\"center\"> © IBM Corporation 2020. All rights reserved. <h3/>\n",
    "\n",
    "<p>\n"
   ]
  }
 ],
 "metadata": {
  "kernelspec": {
   "display_name": "Python 3.10.4 64-bit",
   "language": "python",
   "name": "python3"
  },
  "language_info": {
   "codemirror_mode": {
    "name": "ipython",
    "version": 3
   },
   "file_extension": ".py",
   "mimetype": "text/x-python",
   "name": "python",
   "nbconvert_exporter": "python",
   "pygments_lexer": "ipython3",
   "version": "3.10.4"
  },
  "papermill": {
   "default_parameters": {},
   "duration": 101.584386,
   "end_time": "2021-08-16T15:47:20.241283",
   "environment_variables": {},
   "exception": null,
   "input_path": "__notebook__.ipynb",
   "output_path": "__notebook__.ipynb",
   "parameters": {},
   "start_time": "2021-08-16T15:45:38.656897",
   "version": "2.3.3"
  },
  "vscode": {
   "interpreter": {
    "hash": "c37d83f7a87230cc371779223c105112100249f049ca69f3e802bf972f673885"
   }
  }
 },
 "nbformat": 4,
 "nbformat_minor": 5
}
